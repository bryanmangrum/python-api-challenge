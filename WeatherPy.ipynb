{
 "cells": [
  {
   "cell_type": "markdown",
   "metadata": {},
   "source": [
    "# WeatherPy\n",
    "----\n",
    "\n",
    "#### Note\n",
    "* Instructions have been included for each segment. You do not have to follow them exactly, but they are included to help you think through the steps."
   ]
  },
  {
   "cell_type": "code",
   "execution_count": 1,
   "metadata": {
    "scrolled": true
   },
   "outputs": [],
   "source": [
    "# Dependencies and Setup\n",
    "import matplotlib.pyplot as plt\n",
    "import pandas as pd\n",
    "import numpy as np\n",
    "import requests\n",
    "import time\n",
    "from scipy.stats import linregress\n",
    "import json\n",
    "\n",
    "# Import API key\n",
    "from api_keys import weather_api_key\n",
    "units = 'imperial'\n",
    "\n",
    "# Incorporated citipy to determine city based on latitude and longitude\n",
    "from citipy import citipy\n",
    "\n",
    "# Output File (CSV)\n",
    "output_data_file = \"output_data/cities.csv\"\n",
    "\n",
    "\n",
    "# Range of latitudes and longitudes\n",
    "lat_range = (-90, 90)\n",
    "lng_range = (-180, 180)\n",
    "\n",
    "query_url = f\"http://api.openweathermap.org/data/2.5/weather?appid={weather_api_key}&units={units}&q=\""
   ]
  },
  {
   "cell_type": "code",
   "execution_count": 2,
   "metadata": {},
   "outputs": [
    {
     "name": "stdout",
     "output_type": "stream",
     "text": [
      "<module 'citipy.citipy' from 'c:\\\\Users\\\\bryan\\\\anaconda3\\\\envs\\\\bryanenv\\\\lib\\\\site-packages\\\\citipy\\\\citipy.py'>\n",
      "output_data/cities.csv\n"
     ]
    }
   ],
   "source": [
    "print(citipy)\n",
    "print(output_data_file)"
   ]
  },
  {
   "cell_type": "markdown",
   "metadata": {},
   "source": [
    "## Generate Cities List"
   ]
  },
  {
   "cell_type": "code",
   "execution_count": 3,
   "metadata": {},
   "outputs": [
    {
     "data": {
      "text/plain": [
       "612"
      ]
     },
     "execution_count": 3,
     "metadata": {},
     "output_type": "execute_result"
    }
   ],
   "source": [
    "# List for holding lat_lngs and cities\n",
    "lat_lngs = []\n",
    "cities = []\n",
    "\n",
    "# Create a set of random lat and lng combinations\n",
    "lats = np.random.uniform(lat_range[0], lat_range[1], size=1500)\n",
    "lngs = np.random.uniform(lng_range[0], lng_range[1], size=1500)\n",
    "lat_lngs = zip(lats, lngs)\n",
    "\n",
    "# Identify nearest city for each lat, lng combination\n",
    "for lat_lng in lat_lngs:\n",
    "    city = citipy.nearest_city(lat_lng[0], lat_lng[1]).city_name\n",
    "    \n",
    "    # If the city is unique, then add it to a our cities list\n",
    "    if city not in cities:\n",
    "        cities.append(city)\n",
    "\n",
    "# Print the city count to confirm sufficient count\n",
    "len(cities)"
   ]
  },
  {
   "cell_type": "markdown",
   "metadata": {},
   "source": [
    "### Perform API Calls\n",
    "* Perform a weather check on each city using a series of successive API calls.\n",
    "* Include a print log of each city as it'sbeing processed (with the city number and city name).\n",
    "\n",
    "> **HINT:** The OpenWeatherMap API only allows 60 calls per minute under their free plan. Try using `time.sleep(60)` after each set of 50 cities to avoid API errors due to large calls."
   ]
  },
  {
   "cell_type": "code",
   "execution_count": 4,
   "metadata": {
    "scrolled": true
   },
   "outputs": [
    {
     "name": "stdout",
     "output_type": "stream",
     "text": [
      "{\n",
      "    \"base\": \"stations\",\n",
      "    \"clouds\": {\n",
      "        \"all\": 100\n",
      "    },\n",
      "    \"cod\": 200,\n",
      "    \"coord\": {\n",
      "        \"lat\": 18.7369,\n",
      "        \"lon\": 7.3853\n",
      "    },\n",
      "    \"dt\": 1653244590,\n",
      "    \"id\": 2447513,\n",
      "    \"main\": {\n",
      "        \"feels_like\": 89.89,\n",
      "        \"grnd_level\": 964,\n",
      "        \"humidity\": 13,\n",
      "        \"pressure\": 1010,\n",
      "        \"sea_level\": 1010,\n",
      "        \"temp\": 94.44,\n",
      "        \"temp_max\": 94.44,\n",
      "        \"temp_min\": 94.44\n",
      "    },\n",
      "    \"name\": \"Arlit\",\n",
      "    \"sys\": {\n",
      "        \"country\": \"NE\",\n",
      "        \"sunrise\": 1653195273,\n",
      "        \"sunset\": 1653242399\n",
      "    },\n",
      "    \"timezone\": 3600,\n",
      "    \"visibility\": 10000,\n",
      "    \"weather\": [\n",
      "        {\n",
      "            \"description\": \"overcast clouds\",\n",
      "            \"icon\": \"04n\",\n",
      "            \"id\": 804,\n",
      "            \"main\": \"Clouds\"\n",
      "        }\n",
      "    ],\n",
      "    \"wind\": {\n",
      "        \"deg\": 170,\n",
      "        \"gust\": 8.57,\n",
      "        \"speed\": 7.58\n",
      "    }\n",
      "}\n"
     ]
    }
   ],
   "source": [
    "response = requests.get(query_url + city.replace(\" \",\"&\")).json()\n",
    "print(json.dumps(response, indent=4, sort_keys=True))"
   ]
  },
  {
   "cell_type": "code",
   "execution_count": 5,
   "metadata": {},
   "outputs": [
    {
     "name": "stdout",
     "output_type": "stream",
     "text": [
      "Processing 1 of 1 | cape town\n",
      "Processing 2 of 1 | luchegorsk\n",
      "Cant find city. Skipping...\n",
      "Processing 3 of 1 | busselton\n",
      "Processing 4 of 1 | rio branco\n",
      "Processing 5 of 1 | mataura\n",
      "Processing 6 of 1 | arraial do cabo\n",
      "Processing 7 of 1 | chernyshevskiy\n",
      "Processing 8 of 1 | saint-philippe\n",
      "Processing 9 of 1 | bilibino\n",
      "Processing 10 of 1 | itarema\n",
      "Processing 11 of 1 | albany\n",
      "Processing 12 of 1 | morant bay\n",
      "Processing 13 of 1 | tessalit\n",
      "Processing 14 of 1 | tura\n",
      "Processing 15 of 1 | souillac\n",
      "Processing 16 of 1 | grand river south east\n",
      "Processing 17 of 1 | innisfail\n",
      "Processing 18 of 1 | port elizabeth\n",
      "Processing 19 of 1 | hermanus\n",
      "Processing 20 of 1 | kodiak\n",
      "Processing 21 of 1 | bredasdorp\n",
      "Processing 22 of 1 | castro\n",
      "Processing 23 of 1 | goderich\n",
      "Processing 24 of 1 | punta arenas\n",
      "Processing 25 of 1 | aktau\n",
      "Processing 26 of 1 | tazovskiy\n",
      "Processing 27 of 1 | ushuaia\n",
      "Processing 28 of 1 | aleksandrovsk-sakhalinskiy\n",
      "Processing 29 of 1 | tyrma\n",
      "Processing 30 of 1 | ngunguru\n",
      "Processing 31 of 1 | iqaluit\n",
      "Processing 32 of 1 | bluff\n",
      "Processing 33 of 1 | hami\n",
      "Processing 34 of 1 | rikitea\n",
      "Cant find city. Skipping...\n",
      "Processing 35 of 1 | comodoro rivadavia\n",
      "Processing 36 of 1 | ancud\n",
      "Cant find city. Skipping...\n",
      "Cant find city. Skipping...\n",
      "Processing 37 of 1 | mar del plata\n",
      "Processing 38 of 1 | gomel\n",
      "Processing 39 of 1 | port hardy\n",
      "Processing 40 of 1 | biak\n",
      "Processing 41 of 1 | cape elizabeth\n",
      "Processing 42 of 1 | nalut\n",
      "Processing 43 of 1 | san patricio\n",
      "Processing 44 of 1 | bethel\n",
      "Processing 45 of 1 | chimore\n",
      "Processing 46 of 1 | dondo\n",
      "Processing 47 of 1 | srednekolymsk\n",
      "Processing 48 of 1 | medina\n",
      "Processing 49 of 1 | garowe\n",
      "Cant find city. Skipping...\n",
      "Processing 1 of 2 | asau\n",
      "Processing 2 of 2 | constitucion\n",
      "Processing 3 of 2 | tuktoyaktuk\n",
      "Processing 4 of 2 | kjopsvik\n",
      "Cant find city. Skipping...\n",
      "Cant find city. Skipping...\n",
      "Cant find city. Skipping...\n",
      "Processing 5 of 2 | acarau\n",
      "Processing 6 of 2 | oriximina\n",
      "Processing 7 of 2 | jamestown\n",
      "Processing 8 of 2 | puerto ayacucho\n",
      "Processing 9 of 2 | sitka\n",
      "Processing 10 of 2 | savonlinna\n",
      "Processing 11 of 2 | sioux lookout\n",
      "Cant find city. Skipping...\n",
      "Processing 12 of 2 | sao joao da barra\n",
      "Cant find city. Skipping...\n",
      "Processing 13 of 2 | cabo rojo\n",
      "Processing 14 of 2 | kandrian\n",
      "Processing 15 of 2 | tabasco\n",
      "Processing 16 of 2 | hobart\n",
      "Processing 17 of 2 | tahta\n",
      "Processing 18 of 2 | new norfolk\n",
      "Processing 19 of 2 | san rafael\n",
      "Processing 20 of 2 | ponta do sol\n",
      "Processing 21 of 2 | lagoa\n",
      "Processing 22 of 2 | coquimbo\n",
      "Processing 23 of 2 | ribeira grande\n",
      "Processing 24 of 2 | kamenka\n",
      "Processing 25 of 2 | leeds\n",
      "Cant find city. Skipping...\n",
      "Processing 26 of 2 | carnarvon\n",
      "Processing 27 of 2 | luderitz\n",
      "Processing 28 of 2 | leningradskiy\n",
      "Processing 29 of 2 | escanaba\n",
      "Processing 30 of 2 | ilulissat\n",
      "Processing 31 of 2 | magadan\n",
      "Processing 32 of 2 | cabo san lucas\n",
      "Processing 33 of 2 | sinjar\n",
      "Cant find city. Skipping...\n",
      "Processing 34 of 2 | butaritari\n",
      "Processing 35 of 2 | porto novo\n",
      "Processing 36 of 2 | sabha\n",
      "Processing 37 of 2 | mahebourg\n",
      "Cant find city. Skipping...\n",
      "Processing 38 of 2 | tasiilaq\n",
      "Processing 39 of 2 | kjollefjord\n",
      "Processing 40 of 2 | yulara\n",
      "Processing 41 of 2 | bodden town\n",
      "Processing 42 of 2 | susuman\n",
      "Cant find city. Skipping...\n",
      "Processing 43 of 2 | ixtapa\n",
      "Processing 44 of 2 | thompson\n",
      "Processing 45 of 2 | coxim\n",
      "Processing 46 of 2 | port lincoln\n",
      "Processing 47 of 2 | kaitangata\n",
      "Processing 48 of 2 | westport\n",
      "Processing 49 of 2 | longyearbyen\n",
      "Processing 1 of 3 | waipawa\n",
      "Processing 2 of 3 | krasnoye\n",
      "Processing 3 of 3 | half moon bay\n",
      "Processing 4 of 3 | dickinson\n",
      "Processing 5 of 3 | bambanglipuro\n",
      "Processing 6 of 3 | nouadhibou\n",
      "Processing 7 of 3 | coahuayana\n",
      "Processing 8 of 3 | talnakh\n",
      "Processing 9 of 3 | russell\n",
      "Processing 10 of 3 | matara\n",
      "Processing 11 of 3 | lorengau\n",
      "Processing 12 of 3 | redmond\n",
      "Processing 13 of 3 | dikson\n",
      "Processing 14 of 3 | jeremie\n",
      "Processing 15 of 3 | yanaul\n",
      "Processing 16 of 3 | campos\n",
      "Processing 17 of 3 | bathsheba\n",
      "Processing 18 of 3 | praia da vitoria\n",
      "Processing 19 of 3 | olafsvik\n",
      "Processing 20 of 3 | chumikan\n",
      "Processing 21 of 3 | gizo\n",
      "Processing 22 of 3 | leh\n",
      "Processing 23 of 3 | aleksandrovka\n",
      "Processing 24 of 3 | port hedland\n",
      "Processing 25 of 3 | port blair\n",
      "Processing 26 of 3 | east london\n",
      "Processing 27 of 3 | qaanaaq\n",
      "Processing 28 of 3 | nogales\n",
      "Processing 29 of 3 | vostochnyy\n",
      "Cant find city. Skipping...\n",
      "Cant find city. Skipping...\n",
      "Processing 30 of 3 | georgetown\n",
      "Processing 31 of 3 | vila franca do campo\n",
      "Processing 32 of 3 | stalybridge\n",
      "Processing 33 of 3 | hilo\n",
      "Processing 34 of 3 | khudumelapye\n",
      "Processing 35 of 3 | nuuk\n",
      "Processing 36 of 3 | acapulco\n",
      "Processing 37 of 3 | janesville\n",
      "Processing 38 of 3 | tocopilla\n",
      "Processing 39 of 3 | atuona\n",
      "Processing 40 of 3 | adrar\n",
      "Cant find city. Skipping...\n",
      "Processing 41 of 3 | iquique\n",
      "Processing 42 of 3 | havoysund\n",
      "Processing 43 of 3 | vao\n",
      "Processing 44 of 3 | namibe\n",
      "Processing 45 of 3 | barrow\n",
      "Processing 46 of 3 | vaini\n",
      "Processing 47 of 3 | orlik\n",
      "Processing 48 of 3 | margate\n",
      "Processing 49 of 3 | abrau-dyurso\n",
      "Processing 1 of 4 | haines junction\n",
      "Processing 2 of 4 | cayenne\n",
      "Processing 3 of 4 | faanui\n",
      "Processing 4 of 4 | beringovskiy\n",
      "Processing 5 of 4 | yellowknife\n",
      "Processing 6 of 4 | jutai\n",
      "Processing 7 of 4 | avarua\n",
      "Processing 8 of 4 | chara\n",
      "Processing 9 of 4 | port augusta\n",
      "Processing 10 of 4 | ahipara\n",
      "Processing 11 of 4 | chuy\n",
      "Processing 12 of 4 | tuatapere\n",
      "Processing 13 of 4 | andenes\n",
      "Processing 14 of 4 | fairbanks\n",
      "Processing 15 of 4 | winnemucca\n",
      "Processing 16 of 4 | durango\n",
      "Processing 17 of 4 | flexeiras\n",
      "Processing 18 of 4 | padang\n",
      "Cant find city. Skipping...\n",
      "Processing 19 of 4 | cherskiy\n",
      "Processing 20 of 4 | khatanga\n",
      "Cant find city. Skipping...\n",
      "Processing 21 of 4 | talikota\n",
      "Processing 22 of 4 | jieshi\n",
      "Processing 23 of 4 | molina\n",
      "Processing 24 of 4 | monrovia\n",
      "Cant find city. Skipping...\n",
      "Processing 25 of 4 | necochea\n",
      "Cant find city. Skipping...\n",
      "Processing 26 of 4 | puerto ayora\n",
      "Processing 27 of 4 | chissamba\n",
      "Processing 28 of 4 | parana\n",
      "Processing 29 of 4 | hasaki\n",
      "Processing 30 of 4 | laela\n",
      "Cant find city. Skipping...\n",
      "Cant find city. Skipping...\n",
      "Processing 31 of 4 | dunedin\n",
      "Processing 32 of 4 | norman wells\n",
      "Cant find city. Skipping...\n",
      "Processing 33 of 4 | nelson bay\n",
      "Processing 34 of 4 | lompoc\n",
      "Processing 35 of 4 | hofn\n",
      "Processing 36 of 4 | ust-nera\n",
      "Processing 37 of 4 | lingao\n",
      "Processing 38 of 4 | roma\n",
      "Processing 39 of 4 | aklavik\n",
      "Processing 40 of 4 | rio branco do sul\n",
      "Processing 41 of 4 | natal\n",
      "Processing 42 of 4 | severo-kurilsk\n",
      "Processing 43 of 4 | hamilton\n",
      "Cant find city. Skipping...\n",
      "Processing 44 of 4 | olinda\n",
      "Processing 45 of 4 | nikolskoye\n",
      "Processing 46 of 4 | portales\n",
      "Processing 47 of 4 | saskylakh\n",
      "Processing 48 of 4 | guerrero negro\n",
      "Processing 49 of 4 | gazojak\n",
      "Processing 1 of 5 | torbay\n",
      "Processing 2 of 5 | shieli\n",
      "Processing 3 of 5 | teeli\n",
      "Processing 4 of 5 | balad\n",
      "Cant find city. Skipping...\n",
      "Cant find city. Skipping...\n",
      "Processing 5 of 5 | ucluelet\n",
      "Processing 6 of 5 | deer lake\n",
      "Processing 7 of 5 | hualmay\n",
      "Processing 8 of 5 | christchurch\n",
      "Processing 9 of 5 | vestmannaeyjar\n",
      "Processing 10 of 5 | beyla\n",
      "Processing 11 of 5 | touros\n",
      "Processing 12 of 5 | muros\n",
      "Processing 13 of 5 | mgachi\n",
      "Processing 14 of 5 | suntar\n",
      "Processing 15 of 5 | kismayo\n",
      "Processing 16 of 5 | mago\n",
      "Processing 17 of 5 | plettenberg bay\n",
      "Cant find city. Skipping...\n",
      "Processing 18 of 5 | lebu\n",
      "Processing 19 of 5 | mys shmidta\n",
      "Processing 20 of 5 | hibbing\n",
      "Processing 21 of 5 | zemio\n",
      "Processing 22 of 5 | provideniya\n",
      "Processing 23 of 5 | lata\n",
      "Processing 24 of 5 | mareeba\n",
      "Processing 25 of 5 | okhotsk\n",
      "Processing 26 of 5 | samarai\n",
      "Processing 27 of 5 | kaabong\n",
      "Processing 28 of 5 | chokurdakh\n",
      "Processing 29 of 5 | podyuga\n",
      "Processing 30 of 5 | rocha\n",
      "Processing 31 of 5 | labuhan\n",
      "Processing 32 of 5 | vacaria\n",
      "Processing 33 of 5 | hay river\n",
      "Processing 34 of 5 | palmer\n",
      "Processing 35 of 5 | katsuura\n",
      "Processing 36 of 5 | sangar\n",
      "Processing 37 of 5 | nyurba\n",
      "Processing 38 of 5 | nome\n",
      "Processing 39 of 5 | bilma\n",
      "Processing 40 of 5 | mount gambier\n",
      "Processing 41 of 5 | yinchuan\n",
      "Processing 42 of 5 | ostersund\n",
      "Processing 43 of 5 | isangel\n",
      "Processing 44 of 5 | alofi\n",
      "Cant find city. Skipping...\n",
      "Processing 45 of 5 | flinders\n",
      "Processing 46 of 5 | awjilah\n",
      "Processing 47 of 5 | beloha\n",
      "Processing 48 of 5 | urucui\n",
      "Processing 49 of 5 | risor\n",
      "Processing 1 of 6 | esperance\n",
      "Processing 2 of 6 | sao filipe\n",
      "Processing 3 of 6 | hirara\n",
      "Processing 4 of 6 | sarankhola\n",
      "Processing 5 of 6 | isoka\n",
      "Processing 6 of 6 | chapais\n",
      "Processing 7 of 6 | pacific grove\n",
      "Processing 8 of 6 | savannah bight\n",
      "Processing 9 of 6 | krasnyy chikoy\n",
      "Processing 10 of 6 | port alfred\n",
      "Processing 11 of 6 | tiksi\n",
      "Processing 12 of 6 | talaya\n",
      "Processing 13 of 6 | riberalta\n",
      "Processing 14 of 6 | manta\n",
      "Processing 15 of 6 | iguape\n",
      "Processing 16 of 6 | salitral\n",
      "Processing 17 of 6 | havre-saint-pierre\n",
      "Processing 18 of 6 | hithadhoo\n",
      "Processing 19 of 6 | filingue\n",
      "Processing 20 of 6 | uruzgan\n",
      "Processing 21 of 6 | yuanping\n",
      "Processing 22 of 6 | mezhdurechenskiy\n",
      "Processing 23 of 6 | senador jose porfirio\n",
      "Processing 24 of 6 | porbandar\n",
      "Processing 25 of 6 | broome\n",
      "Processing 26 of 6 | asfi\n",
      "Processing 27 of 6 | jauja\n",
      "Processing 28 of 6 | aswan\n",
      "Processing 29 of 6 | tarnos\n",
      "Processing 30 of 6 | alexandria\n",
      "Processing 31 of 6 | vangaindrano\n",
      "Processing 32 of 6 | kavieng\n",
      "Processing 33 of 6 | ganzhou\n",
      "Processing 34 of 6 | alpatovo\n",
      "Processing 35 of 6 | pevek\n",
      "Processing 36 of 6 | tautira\n",
      "Processing 37 of 6 | vallenar\n",
      "Processing 38 of 6 | rio cuarto\n",
      "Processing 39 of 6 | waddan\n",
      "Cant find city. Skipping...\n",
      "Cant find city. Skipping...\n",
      "Processing 40 of 6 | watertown\n",
      "Processing 41 of 6 | kruisfontein\n",
      "Processing 42 of 6 | cam ranh\n",
      "Processing 43 of 6 | rundu\n",
      "Processing 44 of 6 | abu samrah\n",
      "Processing 45 of 6 | puro\n",
      "Processing 46 of 6 | aguimes\n",
      "Processing 47 of 6 | rudbar\n",
      "Processing 48 of 6 | jiutai\n",
      "Processing 49 of 6 | poum\n",
      "Processing 1 of 7 | lavrentiya\n",
      "Processing 2 of 7 | fredericksburg\n",
      "Processing 3 of 7 | oranjestad\n",
      "Cant find city. Skipping...\n",
      "Cant find city. Skipping...\n",
      "Processing 4 of 7 | vila velha\n",
      "Processing 5 of 7 | talara\n",
      "Cant find city. Skipping...\n",
      "Processing 6 of 7 | pahrump\n",
      "Processing 7 of 7 | kapaa\n",
      "Processing 8 of 7 | olga\n",
      "Processing 9 of 7 | markova\n",
      "Processing 10 of 7 | sorland\n",
      "Cant find city. Skipping...\n",
      "Processing 11 of 7 | neuquen\n",
      "Processing 12 of 7 | havre\n",
      "Processing 13 of 7 | borogontsy\n",
      "Processing 14 of 7 | auki\n",
      "Processing 15 of 7 | exeter\n",
      "Processing 16 of 7 | woodward\n",
      "Processing 17 of 7 | maniitsoq\n",
      "Processing 18 of 7 | kloulklubed\n",
      "Processing 19 of 7 | ermoupolis\n",
      "Processing 20 of 7 | upernavik\n",
      "Processing 21 of 7 | yaring\n",
      "Processing 22 of 7 | nizhneangarsk\n",
      "Processing 23 of 7 | weihai\n",
      "Processing 24 of 7 | copiapo\n",
      "Processing 25 of 7 | rawson\n",
      "Processing 26 of 7 | nanortalik\n",
      "Processing 27 of 7 | veydelevka\n",
      "Processing 28 of 7 | mitsamiouli\n",
      "Processing 29 of 7 | coihaique\n",
      "Processing 30 of 7 | garmsar\n",
      "Cant find city. Skipping...\n",
      "Processing 31 of 7 | megion\n",
      "Cant find city. Skipping...\n",
      "Processing 32 of 7 | moirang\n",
      "Processing 33 of 7 | college\n",
      "Processing 34 of 7 | carlyle\n",
      "Processing 35 of 7 | korla\n",
      "Processing 36 of 7 | teahupoo\n",
      "Processing 37 of 7 | rio grande\n",
      "Processing 38 of 7 | alta floresta\n",
      "Processing 39 of 7 | cortes\n",
      "Processing 40 of 7 | shaunavon\n",
      "Processing 41 of 7 | paso de carrasco\n",
      "Processing 42 of 7 | kozhva\n",
      "Processing 43 of 7 | machiques\n",
      "Processing 44 of 7 | kargasok\n",
      "Processing 45 of 7 | saldanha\n",
      "Processing 46 of 7 | mahibadhoo\n",
      "Processing 47 of 7 | harrisonburg\n",
      "Processing 48 of 7 | wangaratta\n",
      "Processing 49 of 7 | bur gabo\n",
      "Cant find city. Skipping...\n",
      "Processing 1 of 8 | lixourion\n",
      "Processing 2 of 8 | komsomolskiy\n",
      "Processing 3 of 8 | timmins\n",
      "Processing 4 of 8 | shar\n",
      "Processing 5 of 8 | kieta\n",
      "Processing 6 of 8 | kissamos\n",
      "Cant find city. Skipping...\n",
      "Cant find city. Skipping...\n",
      "Processing 7 of 8 | meulaboh\n",
      "Processing 8 of 8 | berlevag\n",
      "Processing 9 of 8 | narsaq\n",
      "Processing 10 of 8 | guiratinga\n",
      "Processing 11 of 8 | kawana waters\n",
      "Processing 12 of 8 | yongzhou\n",
      "Processing 13 of 8 | bled\n",
      "Processing 14 of 8 | marzuq\n",
      "Processing 15 of 8 | portland\n",
      "Processing 16 of 8 | yarmouth\n",
      "Processing 17 of 8 | svetlogorsk\n",
      "Processing 18 of 8 | lakefield\n",
      "Processing 19 of 8 | longjiang\n",
      "Processing 20 of 8 | viedma\n",
      "Processing 21 of 8 | montlucon\n",
      "Processing 22 of 8 | scicli\n",
      "Processing 23 of 8 | clyde river\n",
      "Cant find city. Skipping...\n",
      "Processing 24 of 8 | pachino\n",
      "Processing 25 of 8 | khorramshahr\n",
      "Processing 26 of 8 | itainopolis\n",
      "Cant find city. Skipping...\n",
      "Processing 27 of 8 | kangaatsiaq\n",
      "Processing 28 of 8 | ginir\n",
      "Cant find city. Skipping...\n",
      "Processing 29 of 8 | bonthe\n",
      "Processing 30 of 8 | bowen\n",
      "Processing 31 of 8 | junagarh\n",
      "Processing 32 of 8 | pingliang\n",
      "Processing 33 of 8 | trincomalee\n",
      "Processing 34 of 8 | mayumba\n",
      "Processing 35 of 8 | moron\n",
      "Processing 36 of 8 | maun\n",
      "Processing 37 of 8 | kununurra\n",
      "Processing 38 of 8 | axim\n",
      "Processing 39 of 8 | taoudenni\n",
      "Processing 40 of 8 | semnan\n",
      "Processing 41 of 8 | kachiry\n",
      "Processing 42 of 8 | cidreira\n",
      "Processing 43 of 8 | peterhead\n",
      "Cant find city. Skipping...\n",
      "Processing 44 of 8 | jambi\n",
      "Processing 45 of 8 | nedumangad\n",
      "Processing 46 of 8 | elbrus\n",
      "Processing 47 of 8 | singleton\n",
      "Processing 48 of 8 | frontera\n",
      "Processing 49 of 8 | penzance\n",
      "Processing 1 of 9 | sharjah\n",
      "Processing 2 of 9 | maloy\n",
      "Processing 3 of 9 | dayong\n",
      "Processing 4 of 9 | roald\n",
      "Processing 5 of 9 | dingle\n",
      "Processing 6 of 9 | gaoual\n",
      "Processing 7 of 9 | yar-sale\n",
      "Processing 8 of 9 | barguzin\n",
      "Processing 9 of 9 | ponta grossa\n",
      "Processing 10 of 9 | san isidro\n",
      "Processing 11 of 9 | praya\n",
      "Processing 12 of 9 | nago\n",
      "Processing 13 of 9 | collie\n",
      "Processing 14 of 9 | ostrovnoy\n",
      "Processing 15 of 9 | shepsi\n",
      "Processing 16 of 9 | bengkulu\n",
      "Cant find city. Skipping...\n",
      "Processing 17 of 9 | nantucket\n",
      "Cant find city. Skipping...\n",
      "Processing 18 of 9 | yeppoon\n",
      "Processing 19 of 9 | yenagoa\n",
      "Processing 20 of 9 | sorong\n",
      "Processing 21 of 9 | altagracia de orituco\n",
      "Processing 22 of 9 | dengfeng\n",
      "Processing 23 of 9 | camacha\n",
      "Processing 24 of 9 | abha\n",
      "Cant find city. Skipping...\n",
      "Processing 25 of 9 | guanica\n",
      "Processing 26 of 9 | puerto varas\n",
      "Processing 27 of 9 | sanming\n",
      "Processing 28 of 9 | namatanai\n",
      "Processing 29 of 9 | flin flon\n",
      "Processing 30 of 9 | catio\n",
      "Processing 31 of 9 | yacuiba\n",
      "Processing 32 of 9 | andrelandia\n",
      "Processing 33 of 9 | hokitika\n",
      "Cant find city. Skipping...\n",
      "Processing 34 of 9 | alekseyevsk\n",
      "Processing 35 of 9 | mehamn\n",
      "Processing 36 of 9 | peleduy\n",
      "Cant find city. Skipping...\n",
      "Processing 37 of 9 | kautokeino\n",
      "Processing 38 of 9 | kasama\n",
      "Processing 39 of 9 | maragogi\n",
      "Processing 40 of 9 | virginia beach\n",
      "Processing 41 of 9 | san cristobal\n",
      "Cant find city. Skipping...\n",
      "Processing 42 of 9 | caarapo\n",
      "Processing 43 of 9 | victoria\n",
      "Processing 44 of 9 | khandyga\n",
      "Processing 45 of 9 | laguna\n",
      "Processing 46 of 9 | batticaloa\n",
      "Processing 47 of 9 | pisco\n",
      "Processing 48 of 9 | avera\n",
      "Processing 49 of 9 | novo aripuana\n",
      "Processing 1 of 10 | sasebo\n",
      "Processing 2 of 10 | atherton\n",
      "Cant find city. Skipping...\n",
      "Processing 3 of 10 | sept-iles\n",
      "Processing 4 of 10 | yakeshi\n",
      "Processing 5 of 10 | rehoboth\n",
      "Cant find city. Skipping...\n",
      "Processing 6 of 10 | fortuna\n",
      "Processing 7 of 10 | leduc\n",
      "Processing 8 of 10 | nabire\n",
      "Processing 9 of 10 | salalah\n",
      "Cant find city. Skipping...\n",
      "Processing 10 of 10 | kalianget\n",
      "Processing 11 of 10 | deputatskiy\n",
      "Processing 12 of 10 | vestmanna\n",
      "Processing 13 of 10 | tateyama\n",
      "Processing 14 of 10 | klaksvik\n",
      "Processing 15 of 10 | sinop\n",
      "Processing 16 of 10 | guerrero\n",
      "Processing 17 of 10 | zhangye\n",
      "Processing 18 of 10 | ridgecrest\n",
      "Processing 19 of 10 | usinsk\n",
      "Processing 20 of 10 | trairi\n",
      "Cant find city. Skipping...\n",
      "Processing 21 of 10 | north myrtle beach\n",
      "Processing 22 of 10 | inuvik\n",
      "Cant find city. Skipping...\n",
      "Processing 23 of 10 | kungurtug\n",
      "Processing 24 of 10 | luena\n",
      "Processing 25 of 10 | juneau\n",
      "Processing 26 of 10 | pasni\n",
      "Processing 27 of 10 | gornopravdinsk\n",
      "Processing 28 of 10 | camocim\n",
      "Processing 29 of 10 | dali\n",
      "Processing 30 of 10 | sorata\n",
      "Processing 31 of 10 | bereda\n",
      "Processing 32 of 10 | port-gentil\n",
      "Cant find city. Skipping...\n",
      "Processing 33 of 10 | daru\n",
      "Processing 34 of 10 | ust-kuyga\n",
      "Processing 35 of 10 | noumea\n",
      "Processing 36 of 10 | ler\n",
      "Processing 37 of 10 | price\n",
      "Processing 38 of 10 | kashan\n",
      "Processing 39 of 10 | cape coast\n",
      "Processing 40 of 10 | manokwari\n",
      "Processing 41 of 10 | odweyne\n",
      "Processing 42 of 10 | rorvik\n",
      "Cant find city. Skipping...\n",
      "Processing 43 of 10 | marsa matruh\n",
      "Processing 44 of 10 | tatawin\n",
      "Cant find city. Skipping...\n",
      "Processing 45 of 10 | bull savanna\n",
      "Processing 46 of 10 | suez\n",
      "Cant find city. Skipping...\n",
      "Processing 47 of 10 | montbrison\n",
      "Processing 48 of 10 | pokhara\n",
      "Processing 49 of 10 | mlonggo\n",
      "Processing 1 of 11 | sao jose da coroa grande\n",
      "Processing 2 of 11 | luanda\n",
      "Processing 3 of 11 | airai\n",
      "Processing 4 of 11 | bundaberg\n",
      "Processing 5 of 11 | oktyabrskoye\n",
      "Cant find city. Skipping...\n",
      "Processing 6 of 11 | coos bay\n",
      "Processing 7 of 11 | bambous virieux\n",
      "Processing 8 of 11 | barwani\n",
      "Processing 9 of 11 | amazar\n",
      "Processing 10 of 11 | shingu\n",
      "Processing 11 of 11 | erzin\n",
      "Processing 12 of 11 | sijunjung\n",
      "Processing 13 of 11 | san policarpo\n",
      "Processing 14 of 11 | mahalapye\n",
      "Processing 15 of 11 | oranjemund\n",
      "Processing 16 of 11 | egvekinot\n",
      "Processing 17 of 11 | atar\n",
      "Processing 18 of 11 | voh\n",
      "Cant find city. Skipping...\n",
      "Processing 19 of 11 | tukrah\n",
      "Processing 20 of 11 | diamantina\n",
      "Processing 21 of 11 | chulman\n",
      "Processing 22 of 11 | lebedinyy\n",
      "Processing 23 of 11 | ormara\n",
      "Processing 24 of 11 | puerto quijarro\n",
      "Processing 25 of 11 | sinnamary\n",
      "Processing 26 of 11 | mangrol\n",
      "Processing 27 of 11 | grand gaube\n",
      "Processing 28 of 11 | severnyy\n",
      "Processing 29 of 11 | partizansk\n",
      "Cant find city. Skipping...\n",
      "Processing 30 of 11 | prince rupert\n",
      "Processing 31 of 11 | ardea\n",
      "Processing 32 of 11 | codrington\n",
      "Processing 33 of 11 | machacamarca\n",
      "Processing 34 of 11 | pandan\n",
      "Processing 35 of 11 | wabana\n",
      "Processing 36 of 11 | geraldton\n",
      "Processing 37 of 11 | huarmey\n",
      "Cant find city. Skipping...\n",
      "Processing 38 of 11 | portobelo\n",
      "Processing 39 of 11 | udachnyy\n",
      "Processing 40 of 11 | south lake tahoe\n",
      "Processing 41 of 11 | ketchikan\n",
      "Processing 42 of 11 | mastic beach\n",
      "Processing 43 of 11 | michigan city\n",
      "Processing 44 of 11 | dingzhou\n",
      "Processing 45 of 11 | sao gabriel\n",
      "Processing 46 of 11 | liverpool\n",
      "Processing 47 of 11 | cagayan de tawi-tawi\n",
      "Processing 48 of 11 | maceio\n",
      "Processing 49 of 11 | itoman\n",
      "Processing 1 of 12 | mirnyy\n",
      "Processing 2 of 12 | morondava\n",
      "Cant find city. Skipping...\n",
      "Processing 3 of 12 | anito\n",
      "Cant find city. Skipping...\n",
      "Processing 4 of 12 | cururupu\n",
      "Processing 5 of 12 | ballina\n",
      "Processing 6 of 12 | gweta\n",
      "Processing 7 of 12 | fort nelson\n",
      "Processing 8 of 12 | arlit\n",
      "-----------------------------\n",
      "Data Retrieval is Complete\n",
      "-----------------------------\n"
     ]
    }
   ],
   "source": [
    "count1 = 0\n",
    "count2 = 1\n",
    "\n",
    "lat = []\n",
    "long = []\n",
    "cloudy = []\n",
    "country = []\n",
    "humid = []\n",
    "high_temp = []\n",
    "windspeed = []\n",
    "dates = []\n",
    "city_name = []\n",
    "\n",
    "for city in cities: \n",
    "    try:\n",
    "        response = requests.get(query_url + city.replace(\" \",\"&\")).json()\n",
    "        lat.append(response[\"coord\"]['lat'])\n",
    "        long.append(response[\"coord\"]['lon'])\n",
    "        high_temp.append(response['main']['temp_max'])\n",
    "        windspeed.append(response['wind']['speed'])\n",
    "        cloudy.append(response['clouds']['all'])\n",
    "        country.append(response['sys']['country'])\n",
    "        dates.append(response['dt'])\n",
    "        humid.append(response['main']['humidity'])\n",
    "        \n",
    "        if count1 > 48:\n",
    "            count1 = 1\n",
    "            count2 += 1\n",
    "            city_name.append(city)\n",
    "        else:\n",
    "            count1 += 1\n",
    "            city_name.append(city)\n",
    "        print(f\"Processing {count1} of {count2} | {city}\")\n",
    "    except Exception:\n",
    "        print(\"Cant find city. Skipping...\")\n",
    "print(\"-----------------------------\")\n",
    "print(\"Data Retrieval is Complete\")\n",
    "print(\"-----------------------------\")\n"
   ]
  },
  {
   "cell_type": "markdown",
   "metadata": {},
   "source": [
    "#### Convert Raw Data to DataFrame\n",
    "* Export the city data into a .csv.\n",
    "* Display the DataFrame"
   ]
  },
  {
   "cell_type": "code",
   "execution_count": 7,
   "metadata": {},
   "outputs": [
    {
     "data": {
      "text/plain": [
       "City          547\n",
       "Cloudiness    547\n",
       "Country       547\n",
       "Date          547\n",
       "Humidity      547\n",
       "Lat           547\n",
       "Lng           547\n",
       "Max Temp      547\n",
       "Wind Speed    547\n",
       "dtype: int64"
      ]
     },
     "execution_count": 7,
     "metadata": {},
     "output_type": "execute_result"
    }
   ],
   "source": [
    "weather_df = pd.DataFrame({\n",
    "    \"City\":city_name, \n",
    "    \"Cloudiness\":cloudy, \n",
    "    \"Country\":country, \n",
    "    \"Date\":dates, \n",
    "    \"Humidity\":humid, \n",
    "    \"Lat\":lat, \n",
    "    \"Lng\":long, \n",
    "    \"Max Temp\":high_temp, \n",
    "    \"Wind Speed\":windspeed\n",
    "    })\n",
    "\n",
    "weather_df.count()"
   ]
  },
  {
   "cell_type": "code",
   "execution_count": 11,
   "metadata": {},
   "outputs": [
    {
     "data": {
      "text/html": [
       "<div>\n",
       "<style scoped>\n",
       "    .dataframe tbody tr th:only-of-type {\n",
       "        vertical-align: middle;\n",
       "    }\n",
       "\n",
       "    .dataframe tbody tr th {\n",
       "        vertical-align: top;\n",
       "    }\n",
       "\n",
       "    .dataframe thead th {\n",
       "        text-align: right;\n",
       "    }\n",
       "</style>\n",
       "<table border=\"1\" class=\"dataframe\">\n",
       "  <thead>\n",
       "    <tr style=\"text-align: right;\">\n",
       "      <th></th>\n",
       "      <th>City</th>\n",
       "      <th>Cloudiness</th>\n",
       "      <th>Country</th>\n",
       "      <th>Date</th>\n",
       "      <th>Humidity</th>\n",
       "      <th>Lat</th>\n",
       "      <th>Lng</th>\n",
       "      <th>Max Temp</th>\n",
       "      <th>Wind Speed</th>\n",
       "    </tr>\n",
       "  </thead>\n",
       "  <tbody>\n",
       "    <tr>\n",
       "      <th>0</th>\n",
       "      <td>Cape Town</td>\n",
       "      <td>100</td>\n",
       "      <td>CL</td>\n",
       "      <td>1653244595</td>\n",
       "      <td>89</td>\n",
       "      <td>-36.4130</td>\n",
       "      <td>-71.9028</td>\n",
       "      <td>49.42</td>\n",
       "      <td>17.98</td>\n",
       "    </tr>\n",
       "    <tr>\n",
       "      <th>1</th>\n",
       "      <td>Luchegorsk</td>\n",
       "      <td>13</td>\n",
       "      <td>RU</td>\n",
       "      <td>1653244595</td>\n",
       "      <td>90</td>\n",
       "      <td>46.4764</td>\n",
       "      <td>134.2569</td>\n",
       "      <td>44.69</td>\n",
       "      <td>2.48</td>\n",
       "    </tr>\n",
       "    <tr>\n",
       "      <th>2</th>\n",
       "      <td>Busselton</td>\n",
       "      <td>65</td>\n",
       "      <td>AU</td>\n",
       "      <td>1653244596</td>\n",
       "      <td>67</td>\n",
       "      <td>-33.6500</td>\n",
       "      <td>115.3333</td>\n",
       "      <td>61.27</td>\n",
       "      <td>23.49</td>\n",
       "    </tr>\n",
       "    <tr>\n",
       "      <th>3</th>\n",
       "      <td>Rio Branco</td>\n",
       "      <td>21</td>\n",
       "      <td>GR</td>\n",
       "      <td>1653244596</td>\n",
       "      <td>61</td>\n",
       "      <td>38.3000</td>\n",
       "      <td>21.7833</td>\n",
       "      <td>73.78</td>\n",
       "      <td>8.01</td>\n",
       "    </tr>\n",
       "    <tr>\n",
       "      <th>4</th>\n",
       "      <td>Mataura</td>\n",
       "      <td>100</td>\n",
       "      <td>NZ</td>\n",
       "      <td>1653244410</td>\n",
       "      <td>91</td>\n",
       "      <td>-46.1927</td>\n",
       "      <td>168.8643</td>\n",
       "      <td>44.33</td>\n",
       "      <td>7.65</td>\n",
       "    </tr>\n",
       "  </tbody>\n",
       "</table>\n",
       "</div>"
      ],
      "text/plain": [
       "         City  Cloudiness Country        Date  Humidity      Lat       Lng  \\\n",
       "0   Cape Town         100      CL  1653244595        89 -36.4130  -71.9028   \n",
       "1  Luchegorsk          13      RU  1653244595        90  46.4764  134.2569   \n",
       "2   Busselton          65      AU  1653244596        67 -33.6500  115.3333   \n",
       "3  Rio Branco          21      GR  1653244596        61  38.3000   21.7833   \n",
       "4     Mataura         100      NZ  1653244410        91 -46.1927  168.8643   \n",
       "\n",
       "   Max Temp  Wind Speed  \n",
       "0     49.42       17.98  \n",
       "1     44.69        2.48  \n",
       "2     61.27       23.49  \n",
       "3     73.78        8.01  \n",
       "4     44.33        7.65  "
      ]
     },
     "execution_count": 11,
     "metadata": {},
     "output_type": "execute_result"
    }
   ],
   "source": [
    "#weather_df.head()\n",
    "\n",
    "weather_df['City'] = weather_df['City'].str.title()\n",
    "weather_df.head()"
   ]
  },
  {
   "cell_type": "code",
   "execution_count": 12,
   "metadata": {},
   "outputs": [],
   "source": [
    "\n",
    "\n",
    "# Save city data into a csv file\n",
    "weather_df.to_csv(\"output_data/cities.csv\", index = False)\n",
    "\n"
   ]
  },
  {
   "cell_type": "markdown",
   "metadata": {},
   "source": [
    "## Inspect the data and remove the cities where the humidity > 100%.\n",
    "----\n",
    "Skip this step if there are no cities that have humidity > 100%. "
   ]
  },
  {
   "cell_type": "code",
   "execution_count": 11,
   "metadata": {},
   "outputs": [
    {
     "data": {
      "text/html": [
       "<div>\n",
       "<style scoped>\n",
       "    .dataframe tbody tr th:only-of-type {\n",
       "        vertical-align: middle;\n",
       "    }\n",
       "\n",
       "    .dataframe tbody tr th {\n",
       "        vertical-align: top;\n",
       "    }\n",
       "\n",
       "    .dataframe thead th {\n",
       "        text-align: right;\n",
       "    }\n",
       "</style>\n",
       "<table border=\"1\" class=\"dataframe\">\n",
       "  <thead>\n",
       "    <tr style=\"text-align: right;\">\n",
       "      <th></th>\n",
       "      <th>City</th>\n",
       "      <th>Cloudiness</th>\n",
       "      <th>Country</th>\n",
       "      <th>Date</th>\n",
       "      <th>Humidity</th>\n",
       "      <th>Lat</th>\n",
       "      <th>Lng</th>\n",
       "      <th>Max Temp</th>\n",
       "      <th>Wind Speed</th>\n",
       "    </tr>\n",
       "  </thead>\n",
       "  <tbody>\n",
       "  </tbody>\n",
       "</table>\n",
       "</div>"
      ],
      "text/plain": [
       "Empty DataFrame\n",
       "Columns: [City, Cloudiness, Country, Date, Humidity, Lat, Lng, Max Temp, Wind Speed]\n",
       "Index: []"
      ]
     },
     "execution_count": 11,
     "metadata": {},
     "output_type": "execute_result"
    }
   ],
   "source": [
    "weather_df.loc[weather_df[\"Humidity\"]> 100]\n",
    "#100% humidity cities do not exist in this dataframe"
   ]
  },
  {
   "cell_type": "code",
   "execution_count": 6,
   "metadata": {},
   "outputs": [],
   "source": [
    "#  Get the indices of cities that have humidity over 100%.\n"
   ]
  },
  {
   "cell_type": "code",
   "execution_count": 7,
   "metadata": {},
   "outputs": [],
   "source": [
    "# Make a new DataFrame equal to the city data to drop all humidity outliers by index.\n",
    "# Passing \"inplace=False\" will make a copy of the city_data DataFrame, which we call \"clean_city_data\".\n"
   ]
  },
  {
   "cell_type": "code",
   "execution_count": null,
   "metadata": {},
   "outputs": [],
   "source": [
    "\n"
   ]
  },
  {
   "cell_type": "markdown",
   "metadata": {},
   "source": [
    "## Plotting the Data\n",
    "* Use proper labeling of the plots using plot titles (including date of analysis) and axes labels.\n",
    "* Save the plotted figures as .pngs."
   ]
  },
  {
   "cell_type": "markdown",
   "metadata": {},
   "source": [
    "## Latitude vs. Temperature Plot"
   ]
  },
  {
   "cell_type": "code",
   "execution_count": 17,
   "metadata": {
    "scrolled": true
   },
   "outputs": [
    {
     "data": {
      "image/png": "[encoded data removed]",
      "text/plain": [
       "<Figure size 720x360 with 1 Axes>"
      ]
     },
     "metadata": {
      "needs_background": "light"
     },
     "output_type": "display_data"
    }
   ],
   "source": [
    "weather_df.plot(kind='scatter', x='Lat', y='Max Temp', grid=True, figsize=(10,5),\n",
    "               title=\"Temperature (F) vs. Latitude\")\n",
    "plt.show()\n",
    "\n",
    "#Based on the below scatter plot we can see that temps are higher between the 20s (both positive and negative) and coldest past 60 degrees Latitude.\n",
    "#This trend is what we would expect to see when looking at this relationship."
   ]
  },
  {
   "cell_type": "markdown",
   "metadata": {},
   "source": [
    "## Latitude vs. Humidity Plot"
   ]
  },
  {
   "cell_type": "code",
   "execution_count": 18,
   "metadata": {},
   "outputs": [
    {
     "data": {
      "image/png": "[encoded data removed]",
      "text/plain": [
       "<Figure size 720x360 with 1 Axes>"
      ]
     },
     "metadata": {
      "needs_background": "light"
     },
     "output_type": "display_data"
    }
   ],
   "source": [
    "weather_df.plot(kind='scatter', x='Lat', y='Humidity', grid=True, figsize=(10,5),\n",
    "               title=\"Humidity (%) vs. Latitude\")\n",
    "plt.show()\n",
    "\n",
    "#As expected, there is much less of a correlation between humidity and latitude. \n",
    "#We can say that while high humidity seems to be fairly evenly spread across the different latitudes,\n",
    "# the lower % humidity seems to be congregated at > +20 degrees latitude."
   ]
  },
  {
   "cell_type": "markdown",
   "metadata": {},
   "source": [
    "## Latitude vs. Cloudiness Plot"
   ]
  },
  {
   "cell_type": "code",
   "execution_count": 20,
   "metadata": {},
   "outputs": [
    {
     "data": {
      "image/png": "[encoded data removed]",
      "text/plain": [
       "<Figure size 648x360 with 1 Axes>"
      ]
     },
     "metadata": {
      "needs_background": "light"
     },
     "output_type": "display_data"
    }
   ],
   "source": [
    "weather_df.plot(kind=\"scatter\", x=\"Lat\", y=\"Cloudiness\", grid=True, figsize=(9,5),\n",
    "              title=\"Cloudiness (%) vs. Latitude\")\n",
    "plt.show()\n",
    "\n",
    "#There does not seem to be a clear correlation between degrees of latitude and cloudiness."
   ]
  },
  {
   "cell_type": "markdown",
   "metadata": {},
   "source": [
    "## Latitude vs. Wind Speed Plot"
   ]
  },
  {
   "cell_type": "code",
   "execution_count": 21,
   "metadata": {},
   "outputs": [
    {
     "data": {
      "image/png": "[encoded data removed]",
      "text/plain": [
       "<Figure size 648x360 with 1 Axes>"
      ]
     },
     "metadata": {
      "needs_background": "light"
     },
     "output_type": "display_data"
    }
   ],
   "source": [
    "weather_df.plot(kind=\"scatter\", x=\"Lat\", y=\"Wind Speed\", grid=True, figsize=(9,5),\n",
    "              title=\"Wind Speed (mph) vs. Latitude\")\n",
    "plt.show()\n",
    "\n",
    "#While we don't see much of a correlation between wind speed and latitude, we do see that the outlier high wind speeds tend to be above(or below) the 40 degree line."
   ]
  },
  {
   "cell_type": "markdown",
   "metadata": {},
   "source": [
    "## Linear Regression"
   ]
  },
  {
   "cell_type": "code",
   "execution_count": 23,
   "metadata": {},
   "outputs": [],
   "source": [
    "north_hemi_df = weather_df.loc[weather_df[\"Lat\"] > 0]\n",
    "south_hemi_df = weather_df.loc[weather_df[\"Lat\"] < 0]"
   ]
  },
  {
   "cell_type": "markdown",
   "metadata": {},
   "source": [
    "####  Northern Hemisphere - Max Temp vs. Latitude Linear Regression"
   ]
  },
  {
   "cell_type": "code",
   "execution_count": 25,
   "metadata": {},
   "outputs": [
    {
     "name": "stdout",
     "output_type": "stream",
     "text": [
      "The r-squared value is: 0.6672945459566738\n"
     ]
    },
    {
     "data": {
      "image/png": "[encoded data removed]",
      "text/plain": [
       "<Figure size 432x288 with 1 Axes>"
      ]
     },
     "metadata": {
      "needs_background": "light"
     },
     "output_type": "display_data"
    }
   ],
   "source": [
    "x_values = north_hemi_df['Lat']\n",
    "y_values = north_hemi_df['Max Temp']\n",
    "(slope, intercept, rvalue, pvalue, stderr) = linregress(x_values, y_values)\n",
    "regress_values = x_values * slope + intercept\n",
    "line_eq = \"y = \" + str(round(slope,2)) + \"x + \" + str(round(intercept,2))\n",
    "plt.scatter(x_values,y_values)\n",
    "plt.plot(x_values,regress_values,\"r-\")\n",
    "plt.annotate(line_eq,(15,45),fontsize=10,color=\"red\")\n",
    "plt.ylabel('Max Temp')\n",
    "plt.xlabel('Latitude')\n",
    "print(f\"The r-squared value is: {rvalue**2}\")\n",
    "plt.show()\n",
    "\n",
    "#We see there is a negative correlation bewteen latitude and temp in the Northern Hemisphere."
   ]
  },
  {
   "cell_type": "markdown",
   "metadata": {},
   "source": [
    "####  Southern Hemisphere - Max Temp vs. Latitude Linear Regression"
   ]
  },
  {
   "cell_type": "code",
   "execution_count": 26,
   "metadata": {},
   "outputs": [
    {
     "name": "stdout",
     "output_type": "stream",
     "text": [
      "The r-squared value is: 0.5016116920935709\n"
     ]
    },
    {
     "data": {
      "image/png": "[encoded data removed]",
      "text/plain": [
       "<Figure size 432x288 with 1 Axes>"
      ]
     },
     "metadata": {
      "needs_background": "light"
     },
     "output_type": "display_data"
    }
   ],
   "source": [
    "x_values = south_hemi_df['Lat']\n",
    "y_values = south_hemi_df['Max Temp']\n",
    "(slope, intercept, rvalue, pvalue, stderr) = linregress(x_values, y_values)\n",
    "regress_values = x_values * slope + intercept\n",
    "line_eq = \"y = \" + str(round(slope,2)) + \"x + \" + str(round(intercept,2))\n",
    "plt.scatter(x_values,y_values)\n",
    "plt.plot(x_values,regress_values,\"r-\")\n",
    "plt.annotate(line_eq,(15,45),fontsize=10,color=\"red\")\n",
    "plt.ylabel('Max Temp')\n",
    "plt.xlabel('Latitude')\n",
    "print(f\"The r-squared value is: {rvalue**2}\")\n",
    "plt.show()\n",
    "\n",
    "#We can see that there is a positive correlation between latitude and temp in the Southern Hemisphere."
   ]
  },
  {
   "cell_type": "markdown",
   "metadata": {},
   "source": [
    "####  Northern Hemisphere - Humidity (%) vs. Latitude Linear Regression"
   ]
  },
  {
   "cell_type": "code",
   "execution_count": 27,
   "metadata": {},
   "outputs": [
    {
     "name": "stdout",
     "output_type": "stream",
     "text": [
      "The r-squared value is: 0.0029596801750888966\n"
     ]
    },
    {
     "data": {
      "image/png": "[encoded data removed]",
      "text/plain": [
       "<Figure size 432x288 with 1 Axes>"
      ]
     },
     "metadata": {
      "needs_background": "light"
     },
     "output_type": "display_data"
    }
   ],
   "source": [
    "x_values = north_hemi_df['Lat']\n",
    "y_values = north_hemi_df['Humidity']\n",
    "(slope, intercept, rvalue, pvalue, stderr) = linregress(x_values, y_values)\n",
    "regress_values = x_values * slope + intercept\n",
    "line_eq = \"y = \" + str(round(slope,2)) + \"x + \" + str(round(intercept,2))\n",
    "plt.scatter(x_values,y_values)\n",
    "plt.plot(x_values,regress_values,\"r-\")\n",
    "plt.annotate(line_eq,(15,45),fontsize=10,color=\"red\")\n",
    "plt.ylabel('Humidity')\n",
    "plt.xlabel('Latitude')\n",
    "print(f\"The r-squared value is: {rvalue**2}\")\n",
    "plt.show()\n",
    "\n",
    "#There is virtually no correlation between humidity and latitude in the Northern Hemisphere."
   ]
  },
  {
   "cell_type": "markdown",
   "metadata": {},
   "source": [
    "####  Southern Hemisphere - Humidity (%) vs. Latitude Linear Regression"
   ]
  },
  {
   "cell_type": "code",
   "execution_count": 28,
   "metadata": {},
   "outputs": [
    {
     "name": "stdout",
     "output_type": "stream",
     "text": [
      "The r-squared value is: 7.587773279593727e-05\n"
     ]
    },
    {
     "data": {
      "image/png": "[encoded data removed]",
      "text/plain": [
       "<Figure size 432x288 with 1 Axes>"
      ]
     },
     "metadata": {
      "needs_background": "light"
     },
     "output_type": "display_data"
    }
   ],
   "source": [
    "x_values = south_hemi_df['Lat']\n",
    "y_values = south_hemi_df['Humidity']\n",
    "(slope, intercept, rvalue, pvalue, stderr) = linregress(x_values, y_values)\n",
    "regress_values = x_values * slope + intercept\n",
    "line_eq = \"y = \" + str(round(slope,2)) + \"x + \" + str(round(intercept,2))\n",
    "plt.scatter(x_values,y_values)\n",
    "plt.plot(x_values,regress_values,\"r-\")\n",
    "plt.annotate(line_eq,(15,45),fontsize=10,color=\"red\")\n",
    "plt.ylabel('Humidity')\n",
    "plt.xlabel('Latitude')\n",
    "print(f\"The r-squared value is: {rvalue**2}\")\n",
    "plt.show()\n",
    "\n",
    "#Same as the Northern Hemisphere, there is no correlation between humidity and latitude."
   ]
  },
  {
   "cell_type": "markdown",
   "metadata": {},
   "source": [
    "####  Northern Hemisphere - Cloudiness (%) vs. Latitude Linear Regression"
   ]
  },
  {
   "cell_type": "code",
   "execution_count": 29,
   "metadata": {},
   "outputs": [
    {
     "name": "stdout",
     "output_type": "stream",
     "text": [
      "The r-squared value is: 0.006911236866818738\n"
     ]
    },
    {
     "data": {
      "image/png": "[encoded data removed]",
      "text/plain": [
       "<Figure size 432x288 with 1 Axes>"
      ]
     },
     "metadata": {
      "needs_background": "light"
     },
     "output_type": "display_data"
    }
   ],
   "source": [
    "x_values = north_hemi_df['Lat']\n",
    "y_values = north_hemi_df['Cloudiness']\n",
    "(slope, intercept, rvalue, pvalue, stderr) = linregress(x_values, y_values)\n",
    "regress_values = x_values * slope + intercept\n",
    "line_eq = \"y = \" + str(round(slope,2)) + \"x + \" + str(round(intercept,2))\n",
    "plt.scatter(x_values,y_values)\n",
    "plt.plot(x_values,regress_values,\"r-\")\n",
    "plt.annotate(line_eq,(15,45),fontsize=10,color=\"red\")\n",
    "plt.ylabel('Cloudiness')\n",
    "plt.xlabel('Latitude')\n",
    "print(f\"The r-squared value is: {rvalue**2}\")\n",
    "plt.show()\n",
    "\n",
    "#We see a very weak positive correlation between cloudiness and latitude in the Northern Hemisphere."
   ]
  },
  {
   "cell_type": "markdown",
   "metadata": {},
   "source": [
    "####  Southern Hemisphere - Cloudiness (%) vs. Latitude Linear Regression"
   ]
  },
  {
   "cell_type": "code",
   "execution_count": 30,
   "metadata": {},
   "outputs": [
    {
     "name": "stdout",
     "output_type": "stream",
     "text": [
      "The r-squared value is: 0.012420636083241517\n"
     ]
    },
    {
     "data": {
      "image/png": "[encoded data removed]",
      "text/plain": [
       "<Figure size 432x288 with 1 Axes>"
      ]
     },
     "metadata": {
      "needs_background": "light"
     },
     "output_type": "display_data"
    }
   ],
   "source": [
    "x_values = south_hemi_df['Lat']\n",
    "y_values = south_hemi_df['Cloudiness']\n",
    "(slope, intercept, rvalue, pvalue, stderr) = linregress(x_values, y_values)\n",
    "regress_values = x_values * slope + intercept\n",
    "line_eq = \"y = \" + str(round(slope,2)) + \"x + \" + str(round(intercept,2))\n",
    "plt.scatter(x_values,y_values)\n",
    "plt.plot(x_values,regress_values,\"r-\")\n",
    "plt.annotate(line_eq,(15,45),fontsize=10,color=\"red\")\n",
    "plt.ylabel('Cloudiness')\n",
    "plt.xlabel('Latitude')\n",
    "print(f\"The r-squared value is: {rvalue**2}\")\n",
    "plt.show()\n",
    "\n",
    "#We see a very weak positive correlation between cloudiness and latitude in the Southern Hemisphere."
   ]
  },
  {
   "cell_type": "markdown",
   "metadata": {},
   "source": [
    "####  Northern Hemisphere - Wind Speed (mph) vs. Latitude Linear Regression"
   ]
  },
  {
   "cell_type": "code",
   "execution_count": 31,
   "metadata": {},
   "outputs": [
    {
     "name": "stdout",
     "output_type": "stream",
     "text": [
      "The r-squared value is: 0.0010091472802878014\n"
     ]
    },
    {
     "data": {
      "image/png": "[encoded data removed]",
      "text/plain": [
       "<Figure size 432x288 with 1 Axes>"
      ]
     },
     "metadata": {
      "needs_background": "light"
     },
     "output_type": "display_data"
    }
   ],
   "source": [
    "x_values = north_hemi_df['Lat']\n",
    "y_values = north_hemi_df['Wind Speed']\n",
    "(slope, intercept, rvalue, pvalue, stderr) = linregress(x_values, y_values)\n",
    "regress_values = x_values * slope + intercept\n",
    "line_eq = \"y = \" + str(round(slope,2)) + \"x + \" + str(round(intercept,2))\n",
    "plt.scatter(x_values,y_values)\n",
    "plt.plot(x_values,regress_values,\"r-\")\n",
    "plt.annotate(line_eq,(15,45),fontsize=10,color=\"red\")\n",
    "plt.ylabel('Wind Speed')\n",
    "plt.xlabel('Latitude')\n",
    "print(f\"The r-squared value is: {rvalue**2}\")\n",
    "plt.show()\n",
    "\n",
    "#There is virtually no correlation between wind speed and latitude in the Northern Hemisphere."
   ]
  },
  {
   "cell_type": "markdown",
   "metadata": {},
   "source": [
    "####  Southern Hemisphere - Wind Speed (mph) vs. Latitude Linear Regression"
   ]
  },
  {
   "cell_type": "code",
   "execution_count": 32,
   "metadata": {},
   "outputs": [
    {
     "name": "stdout",
     "output_type": "stream",
     "text": [
      "The r-squared value is: 0.08178095600273666\n"
     ]
    },
    {
     "data": {
      "image/png": "[encoded data removed]",
      "text/plain": [
       "<Figure size 432x288 with 1 Axes>"
      ]
     },
     "metadata": {
      "needs_background": "light"
     },
     "output_type": "display_data"
    }
   ],
   "source": [
    "x_values = south_hemi_df['Lat']\n",
    "y_values = south_hemi_df['Wind Speed']\n",
    "(slope, intercept, rvalue, pvalue, stderr) = linregress(x_values, y_values)\n",
    "regress_values = x_values * slope + intercept\n",
    "line_eq = \"y = \" + str(round(slope,2)) + \"x + \" + str(round(intercept,2))\n",
    "plt.scatter(x_values,y_values)\n",
    "plt.plot(x_values,regress_values,\"r-\")\n",
    "plt.annotate(line_eq,(15,45),fontsize=10,color=\"red\")\n",
    "plt.ylabel('Wind Speed')\n",
    "plt.xlabel('Latitude')\n",
    "print(f\"The r-squared value is: {rvalue**2}\")\n",
    "plt.show()\n",
    "\n",
    "#There is a slight negative correlation between wind speed and latitude in the Southern Hemisphere."
   ]
  },
  {
   "cell_type": "code",
   "execution_count": null,
   "metadata": {},
   "outputs": [],
   "source": []
  }
 ],
 "metadata": {
  "anaconda-cloud": {},
  "interpreter": {
   "hash": "76ce242051193ec0864ed1be52908de0774e95c926e191f67ff6212805fd103b"
  },
  "kernel_info": {
   "name": "python3"
  },
  "kernelspec": {
   "display_name": "Python 3.7.11 ('bryanenv')",
   "language": "python",
   "name": "python3"
  },
  "language_info": {
   "codemirror_mode": {
    "name": "ipython",
    "version": 3
   },
   "file_extension": ".py",
   "mimetype": "text/x-python",
   "name": "python",
   "nbconvert_exporter": "python",
   "pygments_lexer": "ipython3",
   "version": "3.7.11"
  },
  "latex_envs": {
   "LaTeX_envs_menu_present": true,
   "autoclose": false,
   "autocomplete": true,
   "bibliofile": "biblio.bib",
   "cite_by": "apalike",
   "current_citInitial": 1,
   "eqLabelWithNumbers": true,
   "eqNumInitial": 1,
   "hotkeys": {
    "equation": "Ctrl-E",
    "itemize": "Ctrl-I"
   },
   "labels_anchors": false,
   "latex_user_defs": false,
   "report_style_numbering": false,
   "user_envs_cfg": false
  },
  "nteract": {
   "version": "0.12.3"
  }
 },
 "nbformat": 4,
 "nbformat_minor": 2
}
